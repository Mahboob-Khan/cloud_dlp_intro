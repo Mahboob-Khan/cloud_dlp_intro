{
 "cells": [
  {
   "cell_type": "code",
   "execution_count": 1,
   "metadata": {},
   "outputs": [],
   "source": [
    "import pandas as pd\n",
    "import os"
   ]
  },
  {
   "cell_type": "code",
   "execution_count": 2,
   "metadata": {},
   "outputs": [
    {
     "name": "stdout",
     "output_type": "stream",
     "text": [
      "Credentials from environ: data-loss-prevention-test-74b082472d34.json\n"
     ]
    }
   ],
   "source": [
    "os.environ['GOOGLE_APPLICATION_CREDENTIALS'] = 'data-loss-prevention-test-74b082472d34.json'\n",
    "print('Credentials from environ: {}'.format(os.environ.get('GOOGLE_APPLICATION_CREDENTIALS')))"
   ]
  },
  {
   "cell_type": "code",
   "execution_count": 3,
   "metadata": {},
   "outputs": [],
   "source": [
    "#Name, E-mail, Street Address, Location, Phone Number\n",
    "info_types = ['PERSON_NAME', 'EMAIL_ADDRESS','STREET_ADDRESS', \n",
    "                   'LOCATION', 'PHONE_NUMBER']"
   ]
  },
  {
   "cell_type": "code",
   "execution_count": 4,
   "metadata": {},
   "outputs": [],
   "source": [
    "def deidentify_with_mask(\n",
    "    project, input_str, info_types, masking_character=None, number_to_mask=0\n",
    "):\n",
    "    \"\"\"Uses the Data Loss Prevention API to deidentify sensitive data in a\n",
    "    string by masking it with a character.\n",
    "    Args:\n",
    "        project: The Google Cloud project id to use as a parent resource.\n",
    "        input_str: The string to deidentify (will be treated as text).\n",
    "        masking_character: The character to mask matching sensitive data with.\n",
    "        number_to_mask: The maximum number of sensitive characters to mask in\n",
    "            a match. If omitted or set to zero, the API will default to no\n",
    "            maximum.\n",
    "    Returns:\n",
    "        None; the response from the API is printed to the terminal.\n",
    "    \"\"\"\n",
    "\n",
    "    # Import the client library\n",
    "    import google.cloud.dlp\n",
    "\n",
    "    # Instantiate a client\n",
    "    dlp = google.cloud.dlp_v2.DlpServiceClient()\n",
    "\n",
    "    # Convert the project id into a full resource id.\n",
    "    parent = dlp.project_path(project)\n",
    "\n",
    "    # Construct inspect configuration dictionary\n",
    "    inspect_config = {\n",
    "        \"info_types\": [{\"name\": info_type} for info_type in info_types]\n",
    "    }\n",
    "\n",
    "    # Construct deidentify configuration dictionary\n",
    "    deidentify_config = {\n",
    "        \"info_type_transformations\": {\n",
    "            \"transformations\": [\n",
    "                {\n",
    "                    \"primitive_transformation\": {\n",
    "                        \"character_mask_config\": {\n",
    "                            \"masking_character\": masking_character,\n",
    "                            \"number_to_mask\": number_to_mask,\n",
    "                        }\n",
    "                    }\n",
    "                }\n",
    "            ]\n",
    "        }\n",
    "    }\n",
    "\n",
    "    # Construct item\n",
    "    item = {\"value\": input_str}\n",
    "\n",
    "    # Call the API\n",
    "    response = dlp.deidentify_content(\n",
    "        parent,\n",
    "        inspect_config=inspect_config,\n",
    "        deidentify_config=deidentify_config,\n",
    "        item=item,\n",
    "    )\n",
    "    \n",
    "    \n",
    "\n",
    "    # Print out the results.\n",
    "    print(response.item.value)\n",
    "    \n",
    "    return response.item.value\n"
   ]
  },
  {
   "cell_type": "code",
   "execution_count": 5,
   "metadata": {},
   "outputs": [
    {
     "name": "stdout",
     "output_type": "stream",
     "text": [
      "Hello, my name is ******, Phone number is ************, address is *****************\n"
     ]
    },
    {
     "data": {
      "text/plain": [
       "'Hello, my name is ******, Phone number is ************, address is *****************'"
      ]
     },
     "execution_count": 5,
     "metadata": {},
     "output_type": "execute_result"
    }
   ],
   "source": [
    "deidentify_with_mask(project='data-loss-prevention-test',\n",
    "                     input_str=\"Hello, my name is Stefan, Phone number is 111-223-4333, address is 405 Lexington Ave\",\n",
    "                     info_types=info_types)\n",
    "\n"
   ]
  },
  {
   "cell_type": "code",
   "execution_count": 14,
   "metadata": {},
   "outputs": [],
   "source": [
    "df = pd.read_csv('fake_pii_data.csv')"
   ]
  },
  {
   "cell_type": "code",
   "execution_count": 15,
   "metadata": {},
   "outputs": [
    {
     "data": {
      "text/html": [
       "<div>\n",
       "<style scoped>\n",
       "    .dataframe tbody tr th:only-of-type {\n",
       "        vertical-align: middle;\n",
       "    }\n",
       "\n",
       "    .dataframe tbody tr th {\n",
       "        vertical-align: top;\n",
       "    }\n",
       "\n",
       "    .dataframe thead th {\n",
       "        text-align: right;\n",
       "    }\n",
       "</style>\n",
       "<table border=\"1\" class=\"dataframe\">\n",
       "  <thead>\n",
       "    <tr style=\"text-align: right;\">\n",
       "      <th></th>\n",
       "      <th>names</th>\n",
       "      <th>address</th>\n",
       "      <th>email</th>\n",
       "      <th>phone</th>\n",
       "      <th>Unmasked_Text</th>\n",
       "    </tr>\n",
       "  </thead>\n",
       "  <tbody>\n",
       "    <tr>\n",
       "      <th>0</th>\n",
       "      <td>Maisie</td>\n",
       "      <td>4650 CUSHING PARKWAY</td>\n",
       "      <td>pede@lacusCras.org</td>\n",
       "      <td>(671) 348-5817</td>\n",
       "      <td>My name is Maisie and my email is pede@lacusCr...</td>\n",
       "    </tr>\n",
       "    <tr>\n",
       "      <th>1</th>\n",
       "      <td>Rylee</td>\n",
       "      <td>44201 NOBEL DRIVE</td>\n",
       "      <td>risus@facilisis.net</td>\n",
       "      <td>(970) 853-8816</td>\n",
       "      <td>My name is Rylee and my email is risus@facilis...</td>\n",
       "    </tr>\n",
       "    <tr>\n",
       "      <th>2</th>\n",
       "      <td>Felix</td>\n",
       "      <td>5130 HACIENDA DRIVE</td>\n",
       "      <td>in@Maurisut.co.uk</td>\n",
       "      <td>(311) 434-8134</td>\n",
       "      <td>My name is Felix and my email is in@Maurisut.c...</td>\n",
       "    </tr>\n",
       "    <tr>\n",
       "      <th>3</th>\n",
       "      <td>Hiroko</td>\n",
       "      <td>345 COURT STREET</td>\n",
       "      <td>ullamcorper@sapien.ca</td>\n",
       "      <td>(713) 744-6780</td>\n",
       "      <td>My name is Hiroko and my email is ullamcorper@...</td>\n",
       "    </tr>\n",
       "    <tr>\n",
       "      <th>4</th>\n",
       "      <td>Dominique</td>\n",
       "      <td>600 GRANT STREET</td>\n",
       "      <td>nibh.dolor@penatibusetmagnis.co.uk</td>\n",
       "      <td>(470) 400-5847</td>\n",
       "      <td>My name is Dominique and my email is nibh.dolo...</td>\n",
       "    </tr>\n",
       "  </tbody>\n",
       "</table>\n",
       "</div>"
      ],
      "text/plain": [
       "       names               address                               email  \\\n",
       "0     Maisie  4650 CUSHING PARKWAY                  pede@lacusCras.org   \n",
       "1      Rylee     44201 NOBEL DRIVE                 risus@facilisis.net   \n",
       "2      Felix   5130 HACIENDA DRIVE                   in@Maurisut.co.uk   \n",
       "3     Hiroko      345 COURT STREET               ullamcorper@sapien.ca   \n",
       "4  Dominique      600 GRANT STREET  nibh.dolor@penatibusetmagnis.co.uk   \n",
       "\n",
       "            phone                                      Unmasked_Text  \n",
       "0  (671) 348-5817  My name is Maisie and my email is pede@lacusCr...  \n",
       "1  (970) 853-8816  My name is Rylee and my email is risus@facilis...  \n",
       "2  (311) 434-8134  My name is Felix and my email is in@Maurisut.c...  \n",
       "3  (713) 744-6780  My name is Hiroko and my email is ullamcorper@...  \n",
       "4  (470) 400-5847  My name is Dominique and my email is nibh.dolo...  "
      ]
     },
     "execution_count": 15,
     "metadata": {},
     "output_type": "execute_result"
    }
   ],
   "source": [
    "df.head(5)"
   ]
  },
  {
   "cell_type": "code",
   "execution_count": 16,
   "metadata": {},
   "outputs": [
    {
     "data": {
      "text/plain": [
       "'My name is Maisie and my email is pede@lacusCras.org. My phone # is (671) 348-5817. My address is 4650 CUSHING PARKWAY'"
      ]
     },
     "execution_count": 16,
     "metadata": {},
     "output_type": "execute_result"
    }
   ],
   "source": [
    "df['Unmasked_Text'][0]"
   ]
  },
  {
   "cell_type": "code",
   "execution_count": 17,
   "metadata": {},
   "outputs": [
    {
     "data": {
      "text/html": [
       "<div>\n",
       "<style scoped>\n",
       "    .dataframe tbody tr th:only-of-type {\n",
       "        vertical-align: middle;\n",
       "    }\n",
       "\n",
       "    .dataframe tbody tr th {\n",
       "        vertical-align: top;\n",
       "    }\n",
       "\n",
       "    .dataframe thead th {\n",
       "        text-align: right;\n",
       "    }\n",
       "</style>\n",
       "<table border=\"1\" class=\"dataframe\">\n",
       "  <thead>\n",
       "    <tr style=\"text-align: right;\">\n",
       "      <th></th>\n",
       "      <th>names</th>\n",
       "      <th>address</th>\n",
       "      <th>email</th>\n",
       "      <th>phone</th>\n",
       "      <th>Unmasked_Text</th>\n",
       "    </tr>\n",
       "  </thead>\n",
       "  <tbody>\n",
       "    <tr>\n",
       "      <th>56</th>\n",
       "      <td>Chadwick</td>\n",
       "      <td>2702 LOVE FIELD DRIVE</td>\n",
       "      <td>sollicitudin@Aliquamvulputateullamcorper.net</td>\n",
       "      <td>(551) 961-8934</td>\n",
       "      <td>yes, Chadwick is correct. Email is sollicitudi...</td>\n",
       "    </tr>\n",
       "    <tr>\n",
       "      <th>57</th>\n",
       "      <td>Colette</td>\n",
       "      <td>12500 TI BOULEVARD</td>\n",
       "      <td>commodo.tincidunt@atlibero.net</td>\n",
       "      <td>(683) 413-0096</td>\n",
       "      <td>yes, Colette is correct. Email is commodo.tinc...</td>\n",
       "    </tr>\n",
       "    <tr>\n",
       "      <th>58</th>\n",
       "      <td>Kirby</td>\n",
       "      <td>100 MISSION RIDGE</td>\n",
       "      <td>amet.ante.Vivamus@fringillacursuspurus.org</td>\n",
       "      <td>(302) 878-0911</td>\n",
       "      <td>yes, Kirby is correct. Email is amet.ante.Viva...</td>\n",
       "    </tr>\n",
       "    <tr>\n",
       "      <th>59</th>\n",
       "      <td>Melvin</td>\n",
       "      <td>259 NORTH RADNOR-CHESTER ROAD</td>\n",
       "      <td>magna.Lorem.ipsum@dignissimlacusAliquam.ca</td>\n",
       "      <td>(153) 111-0581</td>\n",
       "      <td>yes, Melvin is correct. Email is magna.Lorem.i...</td>\n",
       "    </tr>\n",
       "    <tr>\n",
       "      <th>60</th>\n",
       "      <td>Barbara</td>\n",
       "      <td>1300 MORRIS DRIVE</td>\n",
       "      <td>sed@auctorullamcorpernisl.co.uk</td>\n",
       "      <td>(262) 173-7314</td>\n",
       "      <td>yes, Barbara is correct. Email is sed@auctorul...</td>\n",
       "    </tr>\n",
       "  </tbody>\n",
       "</table>\n",
       "</div>"
      ],
      "text/plain": [
       "       names                        address  \\\n",
       "56  Chadwick          2702 LOVE FIELD DRIVE   \n",
       "57   Colette             12500 TI BOULEVARD   \n",
       "58     Kirby              100 MISSION RIDGE   \n",
       "59    Melvin  259 NORTH RADNOR-CHESTER ROAD   \n",
       "60   Barbara              1300 MORRIS DRIVE   \n",
       "\n",
       "                                           email           phone  \\\n",
       "56  sollicitudin@Aliquamvulputateullamcorper.net  (551) 961-8934   \n",
       "57                commodo.tincidunt@atlibero.net  (683) 413-0096   \n",
       "58    amet.ante.Vivamus@fringillacursuspurus.org  (302) 878-0911   \n",
       "59    magna.Lorem.ipsum@dignissimlacusAliquam.ca  (153) 111-0581   \n",
       "60               sed@auctorullamcorpernisl.co.uk  (262) 173-7314   \n",
       "\n",
       "                                        Unmasked_Text  \n",
       "56  yes, Chadwick is correct. Email is sollicitudi...  \n",
       "57  yes, Colette is correct. Email is commodo.tinc...  \n",
       "58  yes, Kirby is correct. Email is amet.ante.Viva...  \n",
       "59  yes, Melvin is correct. Email is magna.Lorem.i...  \n",
       "60  yes, Barbara is correct. Email is sed@auctorul...  "
      ]
     },
     "execution_count": 17,
     "metadata": {},
     "output_type": "execute_result"
    }
   ],
   "source": [
    "df.tail(5)"
   ]
  },
  {
   "cell_type": "code",
   "execution_count": 18,
   "metadata": {},
   "outputs": [
    {
     "ename": "KeyError",
     "evalue": "85",
     "output_type": "error",
     "traceback": [
      "\u001b[0;31m---------------------------------------------------------------------------\u001b[0m",
      "\u001b[0;31mKeyError\u001b[0m                                  Traceback (most recent call last)",
      "\u001b[0;32m<ipython-input-18-024a28166284>\u001b[0m in \u001b[0;36m<module>\u001b[0;34m\u001b[0m\n\u001b[0;32m----> 1\u001b[0;31m \u001b[0mdf\u001b[0m\u001b[0;34m[\u001b[0m\u001b[0;34m'Unmasked_Text'\u001b[0m\u001b[0;34m]\u001b[0m\u001b[0;34m[\u001b[0m\u001b[0;36m85\u001b[0m\u001b[0;34m]\u001b[0m\u001b[0;34m\u001b[0m\u001b[0;34m\u001b[0m\u001b[0m\n\u001b[0m",
      "\u001b[0;32m~/Documents/Projects/stocks-tracking/wallstreetenv/lib/python3.7/site-packages/pandas/core/series.py\u001b[0m in \u001b[0;36m__getitem__\u001b[0;34m(self, key)\u001b[0m\n\u001b[1;32m    869\u001b[0m         \u001b[0mkey\u001b[0m \u001b[0;34m=\u001b[0m \u001b[0mcom\u001b[0m\u001b[0;34m.\u001b[0m\u001b[0mapply_if_callable\u001b[0m\u001b[0;34m(\u001b[0m\u001b[0mkey\u001b[0m\u001b[0;34m,\u001b[0m \u001b[0mself\u001b[0m\u001b[0;34m)\u001b[0m\u001b[0;34m\u001b[0m\u001b[0;34m\u001b[0m\u001b[0m\n\u001b[1;32m    870\u001b[0m         \u001b[0;32mtry\u001b[0m\u001b[0;34m:\u001b[0m\u001b[0;34m\u001b[0m\u001b[0;34m\u001b[0m\u001b[0m\n\u001b[0;32m--> 871\u001b[0;31m             \u001b[0mresult\u001b[0m \u001b[0;34m=\u001b[0m \u001b[0mself\u001b[0m\u001b[0;34m.\u001b[0m\u001b[0mindex\u001b[0m\u001b[0;34m.\u001b[0m\u001b[0mget_value\u001b[0m\u001b[0;34m(\u001b[0m\u001b[0mself\u001b[0m\u001b[0;34m,\u001b[0m \u001b[0mkey\u001b[0m\u001b[0;34m)\u001b[0m\u001b[0;34m\u001b[0m\u001b[0;34m\u001b[0m\u001b[0m\n\u001b[0m\u001b[1;32m    872\u001b[0m \u001b[0;34m\u001b[0m\u001b[0m\n\u001b[1;32m    873\u001b[0m             \u001b[0;32mif\u001b[0m \u001b[0;32mnot\u001b[0m \u001b[0mis_scalar\u001b[0m\u001b[0;34m(\u001b[0m\u001b[0mresult\u001b[0m\u001b[0;34m)\u001b[0m\u001b[0;34m:\u001b[0m\u001b[0;34m\u001b[0m\u001b[0;34m\u001b[0m\u001b[0m\n",
      "\u001b[0;32m~/Documents/Projects/stocks-tracking/wallstreetenv/lib/python3.7/site-packages/pandas/core/indexes/base.py\u001b[0m in \u001b[0;36mget_value\u001b[0;34m(self, series, key)\u001b[0m\n\u001b[1;32m   4403\u001b[0m         \u001b[0mk\u001b[0m \u001b[0;34m=\u001b[0m \u001b[0mself\u001b[0m\u001b[0;34m.\u001b[0m\u001b[0m_convert_scalar_indexer\u001b[0m\u001b[0;34m(\u001b[0m\u001b[0mk\u001b[0m\u001b[0;34m,\u001b[0m \u001b[0mkind\u001b[0m\u001b[0;34m=\u001b[0m\u001b[0;34m\"getitem\"\u001b[0m\u001b[0;34m)\u001b[0m\u001b[0;34m\u001b[0m\u001b[0;34m\u001b[0m\u001b[0m\n\u001b[1;32m   4404\u001b[0m         \u001b[0;32mtry\u001b[0m\u001b[0;34m:\u001b[0m\u001b[0;34m\u001b[0m\u001b[0;34m\u001b[0m\u001b[0m\n\u001b[0;32m-> 4405\u001b[0;31m             \u001b[0;32mreturn\u001b[0m \u001b[0mself\u001b[0m\u001b[0;34m.\u001b[0m\u001b[0m_engine\u001b[0m\u001b[0;34m.\u001b[0m\u001b[0mget_value\u001b[0m\u001b[0;34m(\u001b[0m\u001b[0ms\u001b[0m\u001b[0;34m,\u001b[0m \u001b[0mk\u001b[0m\u001b[0;34m,\u001b[0m \u001b[0mtz\u001b[0m\u001b[0;34m=\u001b[0m\u001b[0mgetattr\u001b[0m\u001b[0;34m(\u001b[0m\u001b[0mseries\u001b[0m\u001b[0;34m.\u001b[0m\u001b[0mdtype\u001b[0m\u001b[0;34m,\u001b[0m \u001b[0;34m\"tz\"\u001b[0m\u001b[0;34m,\u001b[0m \u001b[0;32mNone\u001b[0m\u001b[0;34m)\u001b[0m\u001b[0;34m)\u001b[0m\u001b[0;34m\u001b[0m\u001b[0;34m\u001b[0m\u001b[0m\n\u001b[0m\u001b[1;32m   4406\u001b[0m         \u001b[0;32mexcept\u001b[0m \u001b[0mKeyError\u001b[0m \u001b[0;32mas\u001b[0m \u001b[0me1\u001b[0m\u001b[0;34m:\u001b[0m\u001b[0;34m\u001b[0m\u001b[0;34m\u001b[0m\u001b[0m\n\u001b[1;32m   4407\u001b[0m             \u001b[0;32mif\u001b[0m \u001b[0mlen\u001b[0m\u001b[0;34m(\u001b[0m\u001b[0mself\u001b[0m\u001b[0;34m)\u001b[0m \u001b[0;34m>\u001b[0m \u001b[0;36m0\u001b[0m \u001b[0;32mand\u001b[0m \u001b[0;34m(\u001b[0m\u001b[0mself\u001b[0m\u001b[0;34m.\u001b[0m\u001b[0mholds_integer\u001b[0m\u001b[0;34m(\u001b[0m\u001b[0;34m)\u001b[0m \u001b[0;32mor\u001b[0m \u001b[0mself\u001b[0m\u001b[0;34m.\u001b[0m\u001b[0mis_boolean\u001b[0m\u001b[0;34m(\u001b[0m\u001b[0;34m)\u001b[0m\u001b[0;34m)\u001b[0m\u001b[0;34m:\u001b[0m\u001b[0;34m\u001b[0m\u001b[0;34m\u001b[0m\u001b[0m\n",
      "\u001b[0;32mpandas/_libs/index.pyx\u001b[0m in \u001b[0;36mpandas._libs.index.IndexEngine.get_value\u001b[0;34m()\u001b[0m\n",
      "\u001b[0;32mpandas/_libs/index.pyx\u001b[0m in \u001b[0;36mpandas._libs.index.IndexEngine.get_value\u001b[0;34m()\u001b[0m\n",
      "\u001b[0;32mpandas/_libs/index.pyx\u001b[0m in \u001b[0;36mpandas._libs.index.IndexEngine.get_loc\u001b[0;34m()\u001b[0m\n",
      "\u001b[0;32mpandas/_libs/hashtable_class_helper.pxi\u001b[0m in \u001b[0;36mpandas._libs.hashtable.Int64HashTable.get_item\u001b[0;34m()\u001b[0m\n",
      "\u001b[0;32mpandas/_libs/hashtable_class_helper.pxi\u001b[0m in \u001b[0;36mpandas._libs.hashtable.Int64HashTable.get_item\u001b[0;34m()\u001b[0m\n",
      "\u001b[0;31mKeyError\u001b[0m: 85"
     ]
    }
   ],
   "source": [
    "df['Unmasked_Text'][85]"
   ]
  },
  {
   "cell_type": "code",
   "execution_count": 11,
   "metadata": {},
   "outputs": [
    {
     "data": {
      "text/plain": [
       "'My name is Maisie and my email is pede@lacusCras.org. My phone # is (671) 348-5817. My address is 4650 CUSHING PARKWAY'"
      ]
     },
     "execution_count": 11,
     "metadata": {},
     "output_type": "execute_result"
    }
   ],
   "source": [
    "df['Unmasked_Text'][0]"
   ]
  },
  {
   "cell_type": "code",
   "execution_count": 12,
   "metadata": {},
   "outputs": [],
   "source": [
    "# Run deidentify_with_mask function on dataset"
   ]
  },
  {
   "cell_type": "code",
   "execution_count": 13,
   "metadata": {},
   "outputs": [
    {
     "name": "stdout",
     "output_type": "stream",
     "text": [
      "My name is ****** and my email is ******************. My phone # is **************. My address is ***************************\n",
      "My name is ***** and my email is *******************. My phone # is **************. My address is *****************\n",
      "My name is ***** and my email is *****************. My phone # is **************. My address is *******************\n",
      "My name is ****** and my email is *********************. My phone # is **************. My address is ****************\n",
      "My name is ********* and my email is **********************************. My phone # is **************. My address is ****************\n",
      "My name is ****** and my email is *************************. My phone # is **************. My address is *****************************\n",
      "My name is ****** and my email is ************************. My phone # is **************. My address is **************\n",
      "My name is ****** and my email is ******************************. My phone # is **************. My address is 1 *********\n",
      "My name is ***** and my email is *******************************************. My phone # is **************. My address is ************************\n",
      "My name is **** and my email is *********************. My phone # is **************. My address is *****************************\n",
      "My name is ********** and my email is *************************************. My phone # is **************. My address is 12500 EAST ******* AVENUE\n",
      "My name is ***** and my email is *******************************. My phone # is **************. My address is ***************************\n",
      "My name is ****** and my email is *******************. My phone # is **************. My address is *****************\n",
      "My name is **** and my email is ***********************. My phone # is **************. My address is **************************************\n",
      "My name is ***** and my email is ************************. My phone # is **************. My address is **************\n",
      "My name is ******* and my email is **********************. My phone # is **************. My address is ***********************\n",
      "My name is ***** and my email is **************************. My phone # is **************. My address is **************************************\n",
      "My name is ***** and my email is *****************************************. My phone # is **************. My address is *******************\n",
      "My name is ******* and my email is *******************. My phone # is **************. My address is *******************\n",
      "My name is ****** and my email is ****************. My phone # is **************. My address is ************\n",
      "My name is ****** and my email is ***********************. My phone # is **************. My address is ***********************\n",
      "My name is ***** and my email is *********************************. My phone # is **************. My address is ************************\n",
      "My name is ******* and my email is *******************************. My phone # is **************. My address is ************************\n",
      "My name is **** and my email is *************************************. My phone # is **************. My address is *******************\n",
      "My name is ***** and my email is **************************. My phone # is **************. My address is 2006 ***** 130\n",
      "My name is ********* and my email is *****************************. My phone # is **************. My address is ******************************\n",
      "My name is ******** and my email is *************************. My phone # is **************. My address is 1 ******** PLACE\n",
      "My name is ******* and my email is *******************************. My phone # is **************. My address is *****************\n",
      "My name is ******** and my email is *****************************. My phone # is **************. My address is *********************\n",
      "My name is Tiger and my email is *********************. My phone # is **************. My address is **********************\n",
      "My name is ******* and my email is *********************************. My phone # is **************. My address is *************************\n",
      "My name is ******* and my email is ******************. My phone # is **************. My address is ************************\n",
      "My name is ******** and my email is ****************************************. My phone # is **************. My address is *******************\n",
      "My name is ****** and my email is **************************************. My phone # is **************. My address is *****************\n",
      "My name is ****** and my email is ***************************. My phone # is **************. My address is *****************\n",
      "My name is **** and my email is **********************************************. My phone # is **************. My address is ********************\n",
      "My name is **** and my email is ****************. My phone # is **************. My address is 3600 WEST LAKE AVENUE\n",
      "My name is **** and my email is ****************************************. My phone # is **************. My address is ********************************\n",
      "My name is ******** and my email is *************************. My phone # is **************. My address is *************************************\n",
      "My name is ********* and my email is ************************. My phone # is **************. My address is ************************\n",
      "My name is ***** and my email is ************************. My phone # is **************. My address is *******************************\n",
      "My name is ***** and my email is ***************************************. My phone # is **************. My address is ************************\n",
      "My name is ****** and my email is ********************************. My phone # is **************. My address is *************************\n",
      "My name is ***** and my email is ************************. My phone # is **************. My address is ****************************\n",
      "My name is ********** and my email is *******************************. My phone # is **************. My address is *************************\n",
      "My name is **** and my email is *****************************. My phone # is **************. My address is ************************\n",
      "My name is ******** and my email is *******************. My phone # is **************. My address is 6035 ******************\n",
      "hello, how are you? E-mail and phone numbers are: ********************************************** and **************. my name is ******. Address is: *********************************\n",
      "hello, how are you? E-mail and phone numbers are: ************************************ and **************. my name is *****. Address is: ***********************\n",
      "hello, how are you? E-mail and phone numbers are: ********************** and **************. my name is ***. Address is: ****************\n",
      "hello, how are you? E-mail and phone numbers are: ********************** and **************. my name is ******. Address is: *************************\n",
      "hello, how are you? E-mail and phone numbers are: *************************************** and **************. my name is ****. Address is: 351 ****** drive\n",
      "hello, how are you? E-mail and phone numbers are: **************** and **************. my name is ******. Address is: ******************************\n",
      "hello, how are you? E-mail and phone numbers are: ******************************* and **************. my name is ****. Address is: **************************\n",
      "hello, how are you? E-mail and phone numbers are: ******************** and **************. my name is *****. Address is: **********************\n",
      "hello, how are you? E-mail and phone numbers are: ************************************ and (263) 154-3688. my name is *****. Address is: 2001 *****************\n",
      "hello, how are you? E-mail and phone numbers are: ********************************************************* and **************. my name is Quamar. Address is: 2828 north *******\n",
      "hello, how are you? E-mail and phone numbers are: *************************************** and **************. my name is *********. Address is: ***************************\n",
      "hello, how are you? E-mail and phone numbers are: *************************** and (192) 964-6929. my name is *****. Address is: ********************\n",
      "hello, how are you? E-mail and phone numbers are: ************************************ and **************. my name is ***. Address is: ********************************\n"
     ]
    },
    {
     "name": "stdout",
     "output_type": "stream",
     "text": [
      "hello, how are you? E-mail and phone numbers are: *********************************** and **************. my name is ****. Address is: **********************\n",
      "yes, ******** is correct. Email is ******************************************** and phone number is: **************. Physical address is: *********************\n",
      "yes, ******* is correct. Email is ****************************** and phone number is: **************. Physical address is: ******************\n",
      "yes, ***** is correct. Email is ****************************************** and phone number is: **************. Physical address is: *****************\n",
      "yes, ****** is correct. Email is ****************************************** and phone number is: **************. Physical address is: ************************************\n",
      "yes, ******* is correct. Email is ********************************* and phone number is: **************. Physical address is: ***********************\n"
     ]
    }
   ],
   "source": [
    "df['Content_masked'] = df.apply(lambda row: deidentify_with_mask(project='data-loss-prevention-test',\n",
    "                                                                 input_str=row['Unmasked_Text'],\n",
    "                                                                info_types=info_types) ,axis=1)"
   ]
  },
  {
   "cell_type": "code",
   "execution_count": null,
   "metadata": {},
   "outputs": [],
   "source": [
    "df.to_csv('fake_pii_data_masked.csv')"
   ]
  },
  {
   "cell_type": "code",
   "execution_count": null,
   "metadata": {},
   "outputs": [],
   "source": []
  }
 ],
 "metadata": {
  "kernelspec": {
   "display_name": "Python 3.7.6 64-bit ('wallstreetenv': venv)",
   "language": "python",
   "name": "python37664bitwallstreetenvvenvafda407b821b4bf2851b5309f9174c33"
  },
  "language_info": {
   "codemirror_mode": {
    "name": "ipython",
    "version": 3
   },
   "file_extension": ".py",
   "mimetype": "text/x-python",
   "name": "python",
   "nbconvert_exporter": "python",
   "pygments_lexer": "ipython3",
   "version": "3.7.6"
  }
 },
 "nbformat": 4,
 "nbformat_minor": 2
}
